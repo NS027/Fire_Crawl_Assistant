{
 "cells": [
  {
   "cell_type": "code",
   "execution_count": 4,
   "metadata": {},
   "outputs": [],
   "source": [
    "! pip install -qU firecrawl-py==0.0.20 langchain_community"
   ]
  },
  {
   "cell_type": "code",
   "execution_count": null,
   "metadata": {},
   "outputs": [],
   "source": [
    "! pip install langchain-chroma"
   ]
  },
  {
   "cell_type": "code",
   "execution_count": 7,
   "metadata": {},
   "outputs": [],
   "source": [
    "! pip install -qU langchain-openai"
   ]
  },
  {
   "cell_type": "code",
   "execution_count": 30,
   "metadata": {},
   "outputs": [
    {
     "data": {
      "text/plain": [
       "True"
      ]
     },
     "execution_count": 30,
     "metadata": {},
     "output_type": "execute_result"
    }
   ],
   "source": [
    "import os\n",
    "\n",
    "from dotenv import load_dotenv\n",
    "from langchain.text_splitter import CharacterTextSplitter\n",
    "from langchain_community.document_loaders import FireCrawlLoader\n",
    "from langchain_chroma import Chroma\n",
    "from langchain_openai import OpenAIEmbeddings\n",
    "\n",
    "load_dotenv()"
   ]
  },
  {
   "cell_type": "markdown",
   "metadata": {},
   "source": [
    "Get the API key from FireCrawl"
   ]
  },
  {
   "cell_type": "code",
   "execution_count": 17,
   "metadata": {},
   "outputs": [],
   "source": [
    "firecrawl_api_key = os.getenv(\"FIRECRAWL_API_KEY\")"
   ]
  },
  {
   "cell_type": "code",
   "execution_count": 18,
   "metadata": {},
   "outputs": [
    {
     "name": "stdout",
     "output_type": "stream",
     "text": [
      "fc-6dc3e1bdef9841e08757eda9bd0aa815\n"
     ]
    }
   ],
   "source": [
    "print(firecrawl_api_key)"
   ]
  },
  {
   "cell_type": "markdown",
   "metadata": {},
   "source": [
    "### Create the directory for the database"
   ]
  },
  {
   "cell_type": "code",
   "execution_count": 9,
   "metadata": {},
   "outputs": [],
   "source": [
    "current_dir = os.getcwd()\n",
    "db_dir = os.path.join(current_dir, 'db')\n",
    "persistent_directory = os.path.join(db_dir, \"chroma_db_firecrawl\")"
   ]
  },
  {
   "cell_type": "markdown",
   "metadata": {},
   "source": [
    "### Step 1: Crawl the website using FireCrawl Loader"
   ]
  },
  {
   "cell_type": "markdown",
   "metadata": {},
   "source": [
    "- Define the url link"
   ]
  },
  {
   "cell_type": "code",
   "execution_count": 12,
   "metadata": {},
   "outputs": [],
   "source": [
    "url = \"https://cloud.google.com/sql?utm_source=google&utm_medium=cpc&utm_campaign=na-CA-all-en-dr-bkws-all-all-trial-e-dr-1707554&utm_content=text-ad-none-any-DEV_c-CRE_678241001169-ADGP_Hybrid+%7C+BKWS+-+MIX+%7C+Txt-Databases-Cloud+SQL-KWID_43700077224547386-kwd-28489936691&utm_term=KW_google%20cloud%20sql-ST_google+cloud+sql&gad_source=1&gclid=Cj0KCQjwo8S3BhDeARIsAFRmkONMaBPN_JxvUIp3-aPW6MjC9o2P4XJx-Hl3oIMeF0GBdykeZWA5Gc4aAlxGEALw_wcB&gclsrc=aw.ds\""
   ]
  },
  {
   "cell_type": "code",
   "execution_count": 19,
   "metadata": {},
   "outputs": [],
   "source": [
    "loader = FireCrawlLoader(\n",
    "    api_key=firecrawl_api_key,\n",
    "    url=url,\n",
    "    mode=\"scrape\",\n",
    ")\n",
    "docs = loader.load()"
   ]
  },
  {
   "cell_type": "markdown",
   "metadata": {},
   "source": [
    "- Convert with the metadata if they are lists"
   ]
  },
  {
   "cell_type": "code",
   "execution_count": 20,
   "metadata": {},
   "outputs": [],
   "source": [
    "for doc in docs:\n",
    "    for key, value in doc.metadata.items():\n",
    "        if isinstance(value, list):\n",
    "            doc.metadata[key] = \", \".join(map(str, value))"
   ]
  },
  {
   "cell_type": "markdown",
   "metadata": {},
   "source": [
    "### Step 2: Split the content into chunks"
   ]
  },
  {
   "cell_type": "code",
   "execution_count": 27,
   "metadata": {},
   "outputs": [
    {
     "name": "stderr",
     "output_type": "stream",
     "text": [
      "[2024-09-23 00:37:06 - langchain_text_splitters.base:122 - WARNING] Created a chunk of size 6044, which is longer than the specified 1000\n",
      "[2024-09-23 00:37:06 - langchain_text_splitters.base:122 - WARNING] Created a chunk of size 1493, which is longer than the specified 1000\n",
      "[2024-09-23 00:37:06 - langchain_text_splitters.base:122 - WARNING] Created a chunk of size 1225, which is longer than the specified 1000\n",
      "[2024-09-23 00:37:06 - langchain_text_splitters.base:122 - WARNING] Created a chunk of size 1690, which is longer than the specified 1000\n",
      "[2024-09-23 00:37:06 - langchain_text_splitters.base:122 - WARNING] Created a chunk of size 2794, which is longer than the specified 1000\n",
      "[2024-09-23 00:37:06 - langchain_text_splitters.base:122 - WARNING] Created a chunk of size 2794, which is longer than the specified 1000\n",
      "[2024-09-23 00:37:06 - langchain_text_splitters.base:122 - WARNING] Created a chunk of size 6691, which is longer than the specified 1000\n",
      "[2024-09-23 00:37:06 - langchain_text_splitters.base:122 - WARNING] Created a chunk of size 13609, which is longer than the specified 1000\n",
      "[2024-09-23 00:37:06 - langchain_text_splitters.base:122 - WARNING] Created a chunk of size 1024, which is longer than the specified 1000\n"
     ]
    }
   ],
   "source": [
    "text_splitter = CharacterTextSplitter(chunk_size=1000, chunk_overlap=100)\n",
    "split_docs = text_splitter.split_documents(docs)"
   ]
  },
  {
   "cell_type": "markdown",
   "metadata": {},
   "source": [
    "- Display the split documents"
   ]
  },
  {
   "cell_type": "code",
   "execution_count": 29,
   "metadata": {},
   "outputs": [
    {
     "name": "stdout",
     "output_type": "stream",
     "text": [
      "Number of document chunks: 122\n",
      "Sample chunk:\n",
      "- [Cloud SQL](/sql?utm_source=google&utm_medium=cpc&utm_campaign=na-CA-all-en-dr-bkws-all-all-trial-e-dr-1707554&utm_content=text-ad-none-any-DEV_c-CRE_678241001169-ADGP_Hybrid+%7C+BKWS+-+MIX+%7C+Txt-Databases-Cloud+SQL-KWID_43700077224547386-kwd-28489936691&utm_term=KW_google%20cloud%20sql-ST_google+cloud+sql&gad_source=1&gclid=Cj0KCQjwo8S3BhDeARIsAFRmkONMaBPN_JxvUIp3-aPW6MjC9o2P4XJx-Hl3oIMeF0GBdykeZWA5Gc4aAlxGEALw_wcB&gclsrc=aw.ds#focus-on-your-application-and-leave-the-database-to-us)\n",
      "- [Features](/sql?utm_source=google&utm_medium=cpc&utm_campaign=na-CA-all-en-dr-bkws-all-all-trial-e-dr-1707554&utm_content=text-ad-none-any-DEV_c-CRE_678241001169-ADGP_Hybrid+%7C+BKWS+-+MIX+%7C+Txt-Databases-Cloud+SQL-KWID_43700077224547386-kwd-28489936691&utm_term=KW_google%20cloud%20sql-ST_google+cloud+sql&gad_source=1&gclid=Cj0KCQjwo8S3BhDeARIsAFRmkONMaBPN_JxvUIp3-aPW6MjC9o2P4XJx-Hl3oIMeF0GBdykeZWA5Gc4aAlxGEALw_wcB&gclsrc=aw.ds#features)\n",
      "- [Options](/sql?utm_source=google&utm_medium=cpc&utm_campaign=na-CA-all-en-dr-bkws-all-all-trial-e-dr-1707554&utm_content=text-ad-none-any-DEV_c-CRE_678241001169-ADGP_Hybrid+%7C+BKWS+-+MIX+%7C+Txt-Databases-Cloud+SQL-KWID_43700077224547386-kwd-28489936691&utm_term=KW_google%20cloud%20sql-ST_google+cloud+sql&gad_source=1&gclid=Cj0KCQjwo8S3BhDeARIsAFRmkONMaBPN_JxvUIp3-aPW6MjC9o2P4XJx-Hl3oIMeF0GBdykeZWA5Gc4aAlxGEALw_wcB&gclsrc=aw.ds#compare-cloud-sql-to-other-google-cloud-databases)\n",
      "- [How It Works](/sql?utm_source=google&utm_medium=cpc&utm_campaign=na-CA-all-en-dr-bkws-all-all-trial-e-dr-1707554&utm_content=text-ad-none-any-DEV_c-CRE_678241001169-ADGP_Hybrid+%7C+BKWS+-+MIX+%7C+Txt-Databases-Cloud+SQL-KWID_43700077224547386-kwd-28489936691&utm_term=KW_google%20cloud%20sql-ST_google+cloud+sql&gad_source=1&gclid=Cj0KCQjwo8S3BhDeARIsAFRmkONMaBPN_JxvUIp3-aPW6MjC9o2P4XJx-Hl3oIMeF0GBdykeZWA5Gc4aAlxGEALw_wcB&gclsrc=aw.ds#how-it-works)\n",
      "- [Common Uses](/sql?utm_source=google&utm_medium=cpc&utm_campaign=na-CA-all-en-dr-bkws-all-all-trial-e-dr-1707554&utm_content=text-ad-none-any-DEV_c-CRE_678241001169-ADGP_Hybrid+%7C+BKWS+-+MIX+%7C+Txt-Databases-Cloud+SQL-KWID_43700077224547386-kwd-28489936691&utm_term=KW_google%20cloud%20sql-ST_google+cloud+sql&gad_source=1&gclid=Cj0KCQjwo8S3BhDeARIsAFRmkONMaBPN_JxvUIp3-aPW6MjC9o2P4XJx-Hl3oIMeF0GBdykeZWA5Gc4aAlxGEALw_wcB&gclsrc=aw.ds#common-uses)\n",
      "- [Database migration](/sql?utm_source=google&utm_medium=cpc&utm_campaign=na-CA-all-en-dr-bkws-all-all-trial-e-dr-1707554&utm_content=text-ad-none-any-DEV_c-CRE_678241001169-ADGP_Hybrid+%7C+BKWS+-+MIX+%7C+Txt-Databases-Cloud+SQL-KWID_43700077224547386-kwd-28489936691&utm_term=KW_google%20cloud%20sql-ST_google+cloud+sql&gad_source=1&gclid=Cj0KCQjwo8S3BhDeARIsAFRmkONMaBPN_JxvUIp3-aPW6MjC9o2P4XJx-Hl3oIMeF0GBdykeZWA5Gc4aAlxGEALw_wcB&gclsrc=aw.ds#database-migration)\n",
      "- [Database modernization](/sql?utm_source=google&utm_medium=cpc&utm_campaign=na-CA-all-en-dr-bkws-all-all-trial-e-dr-1707554&utm_content=text-ad-none-any-DEV_c-CRE_678241001169-ADGP_Hybrid+%7C+BKWS+-+MIX+%7C+Txt-Databases-Cloud+SQL-KWID_43700077224547386-kwd-28489936691&utm_term=KW_google%20cloud%20sql-ST_google+cloud+sql&gad_source=1&gclid=Cj0KCQjwo8S3BhDeARIsAFRmkONMaBPN_JxvUIp3-aPW6MjC9o2P4XJx-Hl3oIMeF0GBdykeZWA5Gc4aAlxGEALw_wcB&gclsrc=aw.ds#database-modernization)\n",
      "- [New application development](/sql?utm_source=google&utm_medium=cpc&utm_campaign=na-CA-all-en-dr-bkws-all-all-trial-e-dr-1707554&utm_content=text-ad-none-any-DEV_c-CRE_678241001169-ADGP_Hybrid+%7C+BKWS+-+MIX+%7C+Txt-Databases-Cloud+SQL-KWID_43700077224547386-kwd-28489936691&utm_term=KW_google%20cloud%20sql-ST_google+cloud+sql&gad_source=1&gclid=Cj0KCQjwo8S3BhDeARIsAFRmkONMaBPN_JxvUIp3-aPW6MjC9o2P4XJx-Hl3oIMeF0GBdykeZWA5Gc4aAlxGEALw_wcB&gclsrc=aw.ds#new-application-development)\n",
      "- [Third-party applications](/sql?utm_source=google&utm_medium=cpc&utm_campaign=na-CA-all-en-dr-bkws-all-all-trial-e-dr-1707554&utm_content=text-ad-none-any-DEV_c-CRE_678241001169-ADGP_Hybrid+%7C+BKWS+-+MIX+%7C+Txt-Databases-Cloud+SQL-KWID_43700077224547386-kwd-28489936691&utm_term=KW_google%20cloud%20sql-ST_google+cloud+sql&gad_source=1&gclid=Cj0KCQjwo8S3BhDeARIsAFRmkONMaBPN_JxvUIp3-aPW6MjC9o2P4XJx-Hl3oIMeF0GBdykeZWA5Gc4aAlxGEALw_wcB&gclsrc=aw.ds#third-party-applications)\n",
      "- [Pricing](/sql?utm_source=google&utm_medium=cpc&utm_campaign=na-CA-all-en-dr-bkws-all-all-trial-e-dr-1707554&utm_content=text-ad-none-any-DEV_c-CRE_678241001169-ADGP_Hybrid+%7C+BKWS+-+MIX+%7C+Txt-Databases-Cloud+SQL-KWID_43700077224547386-kwd-28489936691&utm_term=KW_google%20cloud%20sql-ST_google+cloud+sql&gad_source=1&gclid=Cj0KCQjwo8S3BhDeARIsAFRmkONMaBPN_JxvUIp3-aPW6MjC9o2P4XJx-Hl3oIMeF0GBdykeZWA5Gc4aAlxGEALw_wcB&gclsrc=aw.ds#pricing)\n",
      "- [Business Case](/sql?utm_source=google&utm_medium=cpc&utm_campaign=na-CA-all-en-dr-bkws-all-all-trial-e-dr-1707554&utm_content=text-ad-none-any-DEV_c-CRE_678241001169-ADGP_Hybrid+%7C+BKWS+-+MIX+%7C+Txt-Databases-Cloud+SQL-KWID_43700077224547386-kwd-28489936691&utm_term=KW_google%20cloud%20sql-ST_google+cloud+sql&gad_source=1&gclid=Cj0KCQjwo8S3BhDeARIsAFRmkONMaBPN_JxvUIp3-aPW6MjC9o2P4XJx-Hl3oIMeF0GBdykeZWA5Gc4aAlxGEALw_wcB&gclsrc=aw.ds#business-case)\n",
      "- [Partners & Integration](/sql?utm_source=google&utm_medium=cpc&utm_campaign=na-CA-all-en-dr-bkws-all-all-trial-e-dr-1707554&utm_content=text-ad-none-any-DEV_c-CRE_678241001169-ADGP_Hybrid+%7C+BKWS+-+MIX+%7C+Txt-Databases-Cloud+SQL-KWID_43700077224547386-kwd-28489936691&utm_term=KW_google%20cloud%20sql-ST_google+cloud+sql&gad_source=1&gclid=Cj0KCQjwo8S3BhDeARIsAFRmkONMaBPN_JxvUIp3-aPW6MjC9o2P4XJx-Hl3oIMeF0GBdykeZWA5Gc4aAlxGEALw_wcB&gclsrc=aw.ds#partners-and-integration)\n",
      "- [FAQ](/sql?utm_source=google&utm_medium=cpc&utm_campaign=na-CA-all-en-dr-bkws-all-all-trial-e-dr-1707554&utm_content=text-ad-none-any-DEV_c-CRE_678241001169-ADGP_Hybrid+%7C+BKWS+-+MIX+%7C+Txt-Databases-Cloud+SQL-KWID_43700077224547386-kwd-28489936691&utm_term=KW_google%20cloud%20sql-ST_google+cloud+sql&gad_source=1&gclid=Cj0KCQjwo8S3BhDeARIsAFRmkONMaBPN_JxvUIp3-aPW6MjC9o2P4XJx-Hl3oIMeF0GBdykeZWA5Gc4aAlxGEALw_wcB&gclsrc=aw.ds#faq)\n",
      "\n"
     ]
    }
   ],
   "source": [
    "print(f\"Number of document chunks: {len(split_docs)}\")\n",
    "print(f\"Sample chunk:\\n{split_docs[1].page_content}\\n\")"
   ]
  },
  {
   "cell_type": "markdown",
   "metadata": {},
   "source": [
    "### Step 3: Create embeddings for chunks"
   ]
  },
  {
   "cell_type": "code",
   "execution_count": 31,
   "metadata": {},
   "outputs": [],
   "source": [
    "embeddings = OpenAIEmbeddings(model=\"text-embedding-3-small\")"
   ]
  },
  {
   "cell_type": "markdown",
   "metadata": {},
   "source": [
    "### Step 4: Create the presist the vector store"
   ]
  },
  {
   "cell_type": "code",
   "execution_count": 33,
   "metadata": {},
   "outputs": [],
   "source": [
    "db = Chroma.from_documents(\n",
    "        split_docs, embeddings, persist_directory=persistent_directory\n",
    "    )"
   ]
  },
  {
   "cell_type": "code",
   "execution_count": 34,
   "metadata": {},
   "outputs": [],
   "source": [
    "# Load the vector store with the embeddings\n",
    "embeddings = OpenAIEmbeddings(model=\"text-embedding-3-small\")\n",
    "db = Chroma(persist_directory=persistent_directory,\n",
    "            embedding_function=embeddings)"
   ]
  },
  {
   "cell_type": "markdown",
   "metadata": {},
   "source": [
    "### Step 5: Query the vector store"
   ]
  },
  {
   "cell_type": "markdown",
   "metadata": {},
   "source": [
    "- Create a retriever for querying the vector store"
   ]
  },
  {
   "cell_type": "code",
   "execution_count": 35,
   "metadata": {},
   "outputs": [],
   "source": [
    "retriever = db.as_retriever(\n",
    "    search_type=\"similarity\",\n",
    "    search_kwargs={\"k\": 3},\n",
    ")"
   ]
  },
  {
   "cell_type": "markdown",
   "metadata": {},
   "source": [
    "- Retrieve relevant documents based on the query\n"
   ]
  },
  {
   "cell_type": "code",
   "execution_count": 36,
   "metadata": {},
   "outputs": [],
   "source": [
    "query = \"What is the difference between Google Cloud SQL and Google Cloud Spanner?\""
   ]
  },
  {
   "cell_type": "code",
   "execution_count": 37,
   "metadata": {},
   "outputs": [],
   "source": [
    "relevant_docs = retriever.invoke(query)"
   ]
  },
  {
   "cell_type": "markdown",
   "metadata": {},
   "source": [
    "- Display the results with metadata"
   ]
  },
  {
   "cell_type": "code",
   "execution_count": 38,
   "metadata": {},
   "outputs": [
    {
     "name": "stdout",
     "output_type": "stream",
     "text": [
      "\n",
      "--- Relevant Documents ---\n",
      "Document 1:\n",
      "Learn more about the benefits of [Spanner](https://cloud.google.com/spanner), including:\n",
      "\n",
      "- Strong consistency and global scale\n",
      "- Run large queries with zero impact on operational traffic\n",
      "- Highly scalable database with relational and non-relational capabilities, offering 99.999% availability\n",
      "\n",
      "How It Works\n",
      "\n",
      "### Cloud SQL scales up in minutes and replicates data across zones and regions. It uses agents for maintenance, logging, monitoring, and configuration, with services backed by a 24/7 SRE team. Manage your database via the console, CLI, or REST API and connect your app via standard database drivers.\n",
      "\n",
      "[View documentation](https://cloud.google.com/sql/docs)\n",
      "\n",
      "[![Database Configurations with Cloud SQL video thumbnail](https://lh3.googleusercontent.com/l_l5uO0hQ6Ps6rKE6no4q6SuiOhsrNIUnOvpJH9oNtgIkBRqXXuemjdqqm98dfu2o26tVRTbNuXh=s472-w472)](https://youtu.be/q6noaMAnk5s)\n",
      "\n",
      "Common Uses\n",
      "\n",
      "### Database migration\n",
      "\n",
      "Source: Unknown\n",
      "\n",
      "Document 2:\n",
      "| Google Cloud service | Overview | Key benefits |\n",
      "| --- | --- | --- |\n",
      "| Cloud SQL | Fully managed, cost-effective relational database service | Try [Cloud SQL](https://console.cloud.google.com/freetrial?redirectPath=/sql) for the:<br>- Easiest lift and shift to the cloud<br>- Same management as the MySQL and SQL Server engines<br>- Lowest cost relational database option |\n",
      "| AlloyDB for PostgreSQL | Full PostgreSQL compatibility with superior performance and scale | Learn more about the benefits of [AlloyDB for PostgreSQL](https://cloud.google.com/alloydb), including:<br>- 4x faster than standard PostgreSQL for transactional workloads<br>- Hybrid transactional and analytical processing (HTAP)<br>- Up to 100x faster analytical queries than standard PostgreSQL<br>- Full AI support, designed to run anywhere |\n",
      "| Spanner | High performance and availability at virtually unlimited scale at zero-touch maintenance | Learn more about the benefits of [Spanner](https://cloud.google.com/spanner), including: <br>- Strong consistency and global scale<br>- Run large queries with zero impact on operational traffic<br>- Highly scalable database with relational and non-relational capabilities, offering 99.999% availability |\n",
      "\n",
      "Source: Unknown\n",
      "\n",
      "Document 3:\n",
      "Cloud SQL\n",
      "\n",
      "Overview\n",
      "\n",
      "Fully managed, cost-effective relational database service\n",
      "\n",
      "Key benefits\n",
      "\n",
      "Try [Cloud SQL](https://console.cloud.google.com/freetrial?redirectPath=/sql) for the:\n",
      "\n",
      "- Easiest lift and shift to the cloud\n",
      "- Same management as the MySQL and SQL Server engines\n",
      "- Lowest cost relational database option\n",
      "\n",
      "AlloyDB for PostgreSQL\n",
      "\n",
      "Overview\n",
      "\n",
      "Full PostgreSQL compatibility with superior performance and scale\n",
      "\n",
      "Key benefits\n",
      "\n",
      "Learn more about the benefits of [AlloyDB for PostgreSQL](https://cloud.google.com/alloydb), including:\n",
      "\n",
      "- 4x faster than standard PostgreSQL for transactional workloads\n",
      "- Hybrid transactional and analytical processing (HTAP)\n",
      "- Up to 100x faster analytical queries than standard PostgreSQL\n",
      "- Full AI support, designed to run anywhere\n",
      "\n",
      "Spanner\n",
      "\n",
      "Overview\n",
      "\n",
      "High performance and availability at virtually unlimited scale at zero-touch maintenance\n",
      "\n",
      "Key benefits\n",
      "\n",
      "Learn more about the benefits of [Spanner](https://cloud.google.com/spanner), including:\n",
      "\n",
      "Source: Unknown\n",
      "\n"
     ]
    }
   ],
   "source": [
    "print(\"\\n--- Relevant Documents ---\")\n",
    "for i, doc in enumerate(relevant_docs, 1):\n",
    "    print(f\"Document {i}:\\n{doc.page_content}\\n\")\n",
    "    if doc.metadata:\n",
    "        print(f\"Source: {doc.metadata.get('source', 'Unknown')}\\n\")"
   ]
  }
 ],
 "metadata": {
  "kernelspec": {
   "display_name": "myenv",
   "language": "python",
   "name": "python3"
  },
  "language_info": {
   "codemirror_mode": {
    "name": "ipython",
    "version": 3
   },
   "file_extension": ".py",
   "mimetype": "text/x-python",
   "name": "python",
   "nbconvert_exporter": "python",
   "pygments_lexer": "ipython3",
   "version": "3.11.5"
  }
 },
 "nbformat": 4,
 "nbformat_minor": 2
}
